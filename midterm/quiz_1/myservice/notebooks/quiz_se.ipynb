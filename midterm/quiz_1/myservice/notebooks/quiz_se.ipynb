{
 "cells": [
  {
   "cell_type": "markdown",
   "metadata": {},
   "source": [
    "# QUIZ - 2024-08"
   ]
  },
  {
   "cell_type": "code",
   "execution_count": 2,
   "metadata": {},
   "outputs": [],
   "source": [
    "import os\n",
    "os.environ[\"DJANGO_ALLOW_ASYNC_UNSAFE\"] = \"true\"\n",
    "\n",
    "import json\n",
    "from service.models import *\n",
    "from django.db.models import *\n",
    "from django.db.models.functions import *\n",
    "from django.utils import timezone\n",
    "from datetime import datetime, date\n",
    "from decimal import Decimal"
   ]
  },
  {
   "cell_type": "markdown",
   "metadata": {},
   "source": [
    "## PART 1 - CRUD Operations\n",
    "1.1 สร้างนัดหมาย (`Appointment`) ของลูกค้า \"Customer 1\" ซึ่งต้องการจองบริการ \"Haircut\" ของ \"Provider 2\"\n",
    "\n",
    "โดยสร้างนัดหมายในวันที่ 2024-10-01 เวลา 11:00 น. \n",
    "\n",
    "(0.5 คะแนน)\n",
    "\n",
    "*หมายเหตุ: จะต้อง get ข้อมูลมาโดยใช้การ query ด้วยชื่อตามที่โจทย์ว่าเท่านั้น ห้ามใช้ id ใน database*"
   ]
  },
  {
   "cell_type": "code",
   "execution_count": 8,
   "metadata": {},
   "outputs": [],
   "source": [
    "customer_1 = Customer.objects.get(name = 'Customer 1')\n",
    "provider_2 = ServiceProvider.objects.get(name = 'Provider 2')\n",
    "haircut = Service.objects.get(service_provider = provider_2, name = 'Haircut')\n",
    "appointment_1 = Appointment.objects.create(\n",
    "    customer = customer_1,\n",
    "    service = haircut,\n",
    "    appointment_date = '2024-10-01',\n",
    "    appointment_time = '11:00',\n",
    ")"
   ]
  },
  {
   "cell_type": "code",
   "execution_count": 9,
   "metadata": {},
   "outputs": [
    {
     "name": "stdout",
     "output_type": "stream",
     "text": [
      "Appoint Date: 2024-10-01, Appoint Time: 11:00:00\n",
      "Service Name: Haircut, Provider Name: Provider 2, Customer Name: Customer 1\n"
     ]
    }
   ],
   "source": [
    "# Check result\n",
    "res = Appointment.objects.last()\n",
    "print(f\"Appoint Date: {res.appointment_date}, Appoint Time: {res.appointment_time}\")\n",
    "print(f\"Service Name: {res.service.name}, Provider Name: {res.service.service_provider.name}, Customer Name: {res.customer.name}\")"
   ]
  },
  {
   "cell_type": "markdown",
   "metadata": {},
   "source": [
    "1.2 ทำการแก้ไขนัดหมายที่เพิ่งสร้างใน 1.1 โดยเปลี่ยนวันที่จากวันที่ 2024-10-01 เป็น 2024-10-10 เวลาเดิม\n",
    "\n",
    "(0.25 คะแนน)"
   ]
  },
  {
   "cell_type": "code",
   "execution_count": 10,
   "metadata": {},
   "outputs": [],
   "source": [
    "res = Appointment.objects.last()\n",
    "res.appointment_date = '2024-10-10'\n",
    "res.save()"
   ]
  },
  {
   "cell_type": "code",
   "execution_count": 11,
   "metadata": {},
   "outputs": [
    {
     "name": "stdout",
     "output_type": "stream",
     "text": [
      "Appoint Date: 2024-10-10, Appoint Time: 11:00:00\n",
      "Service Name: Haircut, Provider Name: Provider 2, Customer Name: Customer 1\n"
     ]
    }
   ],
   "source": [
    "# Check result\n",
    "res = Appointment.objects.last()\n",
    "print(f\"Appoint Date: {res.appointment_date}, Appoint Time: {res.appointment_time}\")\n",
    "print(f\"Service Name: {res.service.name}, Provider Name: {res.service.service_provider.name}, Customer Name: {res.customer.name}\")"
   ]
  },
  {
   "cell_type": "markdown",
   "metadata": {},
   "source": [
    "1.3 ทำการแก้ไขนัดหมาย ณ วันที่ 2024-08-14 ของ \"Customer 4\" โดยเปลี่ยนจากเดิมที่นัดมาให้บริการ \"Manicure\" ของ \"Provider 3\" เป็น \"Massage\" ของ \"Provider 4\" แทน\n",
    "\n",
    "(0.25 คะแนน)\n",
    "\n",
    "*หมายเหตุ: จะต้อง get ข้อมูลมาโดยใช้การ query ด้วยชื่อตามที่โจทย์ว่าเท่านั้น ห้ามใช้ id ใน database*"
   ]
  },
  {
   "cell_type": "code",
   "execution_count": 20,
   "metadata": {},
   "outputs": [],
   "source": [
    "massage = Service.objects.get(service_provider__name = 'Provider 4', name = 'Massage')\n",
    "\n",
    "appointment = Appointment.objects.get(\n",
    "    customer__name = 'Customer 4',\n",
    "    appointment_date = '2024-08-14'\n",
    ")\n",
    "\n",
    "appointment.service = massage\n",
    "appointment.save()"
   ]
  },
  {
   "cell_type": "code",
   "execution_count": 24,
   "metadata": {},
   "outputs": [
    {
     "name": "stdout",
     "output_type": "stream",
     "text": [
      "Appoint Date: 2024-08-14, Appoint Time: 10:00:00\n",
      "Service Name: Massage, Provider Name: Provider 4, Customer Name: Customer 4\n"
     ]
    }
   ],
   "source": [
    "# Check result\n",
    "res = Appointment.objects.get(customer__name=\"Customer 4\", appointment_date=date(2024,8,14))\n",
    "print(f\"Appoint Date: {res.appointment_date}, Appoint Time: {res.appointment_time}\")\n",
    "print(f\"Service Name: {res.service.name}, Provider Name: {res.service.service_provider.name}, Customer Name: {res.customer.name}\")"
   ]
  },
  {
   "cell_type": "markdown",
   "metadata": {},
   "source": [
    "1.4 ทำตามขั้นตอนดังนี้\n",
    "\n",
    "1. สร้างหมวดหมู่บริการ (`ServiceCategory`) ใหม่ชื่อ \"Facial & Body Care\" และมีรายละเอียดว่า \"Services related to face & body care\" \n",
    "2. สร้าง บริการ (`Service`) ใหม่ดังนี้ \n",
    "\n",
    "    - Name: \"Face Massage\"\n",
    "    - Description: \"Special face massage!\"\n",
    "    - Price: 150.00\n",
    "    - โดยบริการนี้ให้บริการโดย \"Provider 1\" และ \"Provider 2\" (Hint: ดังนั้นต้องสร้าง 2 รายการ)\n",
    "\n",
    "3. เพิ่มบริการใหม่ทั้ง 2 รายการเข้าไปในหมวดหมู่ \"Facial & Body Care\"\n",
    "4. ทำการย้ายบริการ (`Service`) ในหมวดหมู่บริการ (`ServiceCategory`) \"Body Care\" ไปที่ หมวดหมู่ \"Facial & Body Care\" ที่สร้างขึ้นมาใหม่\n",
    "5. ทำการลบหมวดหมู่บริการ \"Body Care\"\n",
    "\n",
    "(1 คะแนน)"
   ]
  },
  {
   "cell_type": "code",
   "execution_count": 25,
   "metadata": {},
   "outputs": [],
   "source": [
    "# 1. \n",
    "facial = ServiceCategory.objects.create(\n",
    "    name = \"Facial & Body Care\", \n",
    "    description = \"Services related to face & body care\",\n",
    ")"
   ]
  },
  {
   "cell_type": "code",
   "execution_count": 31,
   "metadata": {},
   "outputs": [],
   "source": [
    "# 2. + 3\n",
    "facial = ServiceCategory.objects.get(name = \"Facial & Body Care\")\n",
    "provider_1 = ServiceProvider.objects.get(name = 'Provider 1')\n",
    "provider_2 = ServiceProvider.objects.get(name = 'Provider 2')\n",
    "\n",
    "face_1 = Service.objects.create(\n",
    "    service_provider = provider_1,\n",
    "    name = \"Face Massage\",\n",
    "    description =  \"Special face massage!\",\n",
    "    price = 150.00\n",
    ")\n",
    "facial.services.add(face_1 )\n",
    "\n",
    "face_2 = Service.objects.create(\n",
    "    service_provider = provider_2,\n",
    "    name = \"Face Massage\",\n",
    "    description =  \"Special face massage!\",\n",
    "    price = 150.00\n",
    ")\n",
    "facial.services.add(face_2)"
   ]
  },
  {
   "cell_type": "code",
   "execution_count": 66,
   "metadata": {},
   "outputs": [],
   "source": [
    "# 4.\n",
    "facial = ServiceCategory.objects.get(name = \"Facial & Body Care\")\n",
    "body = ServiceCategory.objects.get(name = \"Body Care\")\n",
    "body_service = Service.objects.filter(servicecategory = body)\n",
    "\n",
    "for service in body_service:\n",
    "    service.servicecategory_set.remove(body)\n",
    "    service.servicecategory_set.add(facial)"
   ]
  },
  {
   "cell_type": "code",
   "execution_count": null,
   "metadata": {},
   "outputs": [],
   "source": [
    "# 5.\n",
    "body = ServiceCategory.objects.get(name = \"Body Care\")\n",
    "body.delete()"
   ]
  },
  {
   "cell_type": "code",
   "execution_count": 50,
   "metadata": {},
   "outputs": [
    {
     "data": {
      "text/plain": [
       "7"
      ]
     },
     "execution_count": 50,
     "metadata": {},
     "output_type": "execute_result"
    }
   ],
   "source": [
    "# Check result\n",
    "sc1 = ServiceCategory.objects.get(name=\"Facial & Body Care\")\n",
    "sc1.services.count()"
   ]
  },
  {
   "cell_type": "markdown",
   "metadata": {},
   "source": [
    "## PART 2 - Making Queries\n",
    "\n",
    "สำหรับ PART 2 ให้ทำการ reset DB และ import ข้อมูลใน `service.sql` เข้าไปใหม่"
   ]
  },
  {
   "cell_type": "markdown",
   "metadata": {},
   "source": [
    "2.1 ให้หาจำนวนนัดหมาย ที่ถูกสร้าง (`Appointment.created_at`) ในช่วงวันที่ 2024-08-01 ถึง 2024-08-02 \n",
    "\n",
    "(0.5 คะแนน)"
   ]
  },
  {
   "cell_type": "code",
   "execution_count": 26,
   "metadata": {},
   "outputs": [
    {
     "name": "stdout",
     "output_type": "stream",
     "text": [
      "{'count': 2}\n"
     ]
    }
   ],
   "source": [
    "count_app = Appointment.objects.aggregate(count = Count(\"created_at\" , \n",
    "                                                        filter=Q(created_at__range = \n",
    "                                                                 (datetime(2024,8,1), datetime(2024,8,2))) \n",
    "                                                       )\n",
    "                                         )\n",
    "print(count_app)"
   ]
  },
  {
   "cell_type": "markdown",
   "metadata": {},
   "source": [
    "2.2 ให้หาว่ามีบริการใด ของผู้ให้บริการไหนบ้าง ที่มีการนัดหมายท่ีมีการนัดหมาย (`Appointment.appoint_date`) ในช่วงวันที่ 2024-08-10 ถึง 2024-08-15\n",
    "\n",
    "(0.5 คะแนน)\n",
    "\n",
    "**Expected Output**\n",
    "\n",
    "```\n",
    "Name: Haircut, Provider: Provider 1\n",
    "Name: Massage, Provider: Provider 1\n",
    "Name: Massage, Provider: Provider 2\n",
    "Name: Massage, Provider: Provider 3\n",
    "Name: Massage, Provider: Provider 4\n",
    "```"
   ]
  },
  {
   "cell_type": "code",
   "execution_count": 33,
   "metadata": {},
   "outputs": [
    {
     "name": "stdout",
     "output_type": "stream",
     "text": [
      "Name: Manicure, Provider: Provider 2\n",
      "Name: Massage, Provider: Provider 2\n",
      "Name: Manicure, Provider: Provider 2\n",
      "Name: Manicure, Provider: Provider 3\n",
      "Name: Massage, Provider: Provider 3\n",
      "Name: Massage, Provider: Provider 1\n",
      "Name: Manicure, Provider: Provider 2\n"
     ]
    }
   ],
   "source": [
    "app_date = Appointment.objects.filter(appointment_date__range = (datetime(2024,8,10), datetime(2024,8,15))) \n",
    "\n",
    "for app in app_date:\n",
    "    print(f\"Name: {app.service.name}, Provider: {app.service.service_provider.name}\")\n"
   ]
  },
  {
   "cell_type": "markdown",
   "metadata": {},
   "source": [
    "2.3 ให้แสดงผลข้อมูลบริการ (`Service`) โดยเรียงลำดับตามราคา (`Service.price`) จากน้อยไปมาก ดังในตัวอย่าง\n",
    "\n",
    "```python\n",
    "[\n",
    "    {\n",
    "        \"price\": 100,\n",
    "        \"full_name\": \"Massage (Provider 1)\"\n",
    "    },\n",
    "    {\n",
    "        \"price\": 100,\n",
    "        \"full_name\": \"Massage (Provider 2)\"\n",
    "    },\n",
    "    {\n",
    "        \"price\": 100,\n",
    "        \"full_name\": \"Massage (Provider 3)\"\n",
    "    },\n",
    "    {\n",
    "        \"price\": 100,\n",
    "        \"full_name\": \"Massage (Provider 4)\"\n",
    "    },\n",
    "    {\n",
    "        \"price\": 30,\n",
    "        \"full_name\": \"Manicure (Provider 4)\"\n",
    "    },\n",
    "    {\n",
    "        \"price\": 30,\n",
    "        \"full_name\": \"Manicure (Provider 1)\"\n",
    "    },\n",
    "    {\n",
    "        \"price\": 30,\n",
    "        \"full_name\": \"Manicure (Provider 3)\"\n",
    "    },\n",
    "    {\n",
    "        \"price\": 30,\n",
    "        \"full_name\": \"Manicure (Provider 2)\"\n",
    "    },\n",
    "    {\n",
    "        \"price\": 20,\n",
    "        \"full_name\": \"Haircut (Provider 4)\"\n",
    "    },\n",
    "    {\n",
    "        \"price\": 20,\n",
    "        \"full_name\": \"Haircut (Provider 2)\"\n",
    "    },\n",
    "    {\n",
    "        \"price\": 20,\n",
    "        \"full_name\": \"Haircut (Provider 3)\"\n",
    "    },\n",
    "    {\n",
    "        \"price\": 20,\n",
    "        \"full_name\": \"Haircut (Provider 1)\"\n",
    "    }\n",
    "]\n",
    "```\n",
    "\n",
    "(0.5 คะแนน)\n",
    "\n",
    "*หมายเหตุ: จะต้องใช้ `annotate()` และ `values()` เท่านั้น การ loop และสร้าง dict เองจะไม่ได้คะแนน*\n",
    "\n",
    "Hint: อยาก print dictionary สวยๆ ใช้ json.dumps\n",
    "\n",
    "```python\n",
    "print(json.dumps(dictionary, indent=4, sort_keys=False))\n",
    "```"
   ]
  },
  {
   "cell_type": "code",
   "execution_count": 39,
   "metadata": {},
   "outputs": [
    {
     "name": "stdout",
     "output_type": "stream",
     "text": [
      "[\n",
      "    {\n",
      "        \"price\": 20,\n",
      "        \"full_name\": \"Haircut (Provider 1)\"\n",
      "    },\n",
      "    {\n",
      "        \"price\": 20,\n",
      "        \"full_name\": \"Haircut (Provider 2)\"\n",
      "    },\n",
      "    {\n",
      "        \"price\": 20,\n",
      "        \"full_name\": \"Haircut (Provider 3)\"\n",
      "    },\n",
      "    {\n",
      "        \"price\": 20,\n",
      "        \"full_name\": \"Haircut (Provider 4)\"\n",
      "    },\n",
      "    {\n",
      "        \"price\": 30,\n",
      "        \"full_name\": \"Manicure (Provider 4)\"\n",
      "    },\n",
      "    {\n",
      "        \"price\": 30,\n",
      "        \"full_name\": \"Manicure (Provider 1)\"\n",
      "    },\n",
      "    {\n",
      "        \"price\": 30,\n",
      "        \"full_name\": \"Manicure (Provider 3)\"\n",
      "    },\n",
      "    {\n",
      "        \"price\": 30,\n",
      "        \"full_name\": \"Manicure (Provider 2)\"\n",
      "    },\n",
      "    {\n",
      "        \"price\": 100,\n",
      "        \"full_name\": \"Massage (Provider 4)\"\n",
      "    },\n",
      "    {\n",
      "        \"price\": 100,\n",
      "        \"full_name\": \"Massage (Provider 2)\"\n",
      "    },\n",
      "    {\n",
      "        \"price\": 100,\n",
      "        \"full_name\": \"Massage (Provider 3)\"\n",
      "    },\n",
      "    {\n",
      "        \"price\": 100,\n",
      "        \"full_name\": \"Massage (Provider 1)\"\n",
      "    }\n",
      "]\n"
     ]
    }
   ],
   "source": [
    "service = Service.objects.annotate( full_name = \n",
    "                                   Concat(F('name') , Value(' (') , F('service_provider__name'), Value(')') \n",
    "                                         )\n",
    "                                  ).order_by('price').values('price', 'full_name')\n",
    "services = list(service)\n",
    "print(json.dumps(services, indent=4, sort_keys=False))"
   ]
  },
  {
   "cell_type": "markdown",
   "metadata": {},
   "source": [
    "2.4 ให้หาจำนวนนัดหมายของลูกค้าแต่ละคน\n",
    "\n",
    "(0.5 คะแนน)\n",
    "\n",
    "*หมายเหตุ: จะต้องใช้ `annotate()` และ `values()`*\n",
    "\n",
    "**Expected Output**\n",
    "\n",
    "```python\n",
    "Name: Customer 4, Total Appoinment: 3\n",
    "Name: Customer 2, Total Appoinment: 4\n",
    "Name: Customer 3, Total Appoinment: 3\n",
    "Name: Customer 1, Total Appoinment: 5\n",
    "```"
   ]
  },
  {
   "cell_type": "code",
   "execution_count": 1,
   "metadata": {
    "scrolled": true
   },
   "outputs": [
    {
     "name": "stdout",
     "output_type": "stream",
     "text": [
      "SELECT \"service_customer\".\"name\", COUNT(\"service_appointment\".\"id\") AS \"customer_count\" FROM \"service_customer\" LEFT OUTER JOIN \"service_appointment\" ON (\"service_customer\".\"id\" = \"service_appointment\".\"customer_id\") GROUP BY \"service_customer\".\"id\"\n"
     ]
    },
    {
     "ename": "SynchronousOnlyOperation",
     "evalue": "You cannot call this from an async context - use a thread or sync_to_async.",
     "output_type": "error",
     "traceback": [
      "\u001b[1;31m---------------------------------------------------------------------------\u001b[0m",
      "\u001b[1;31mSynchronousOnlyOperation\u001b[0m                  Traceback (most recent call last)",
      "Cell \u001b[1;32mIn[1], line 7\u001b[0m\n\u001b[0;32m      4\u001b[0m \u001b[38;5;66;03m# .annotate แล้ว .values ต่อ คือการ GROUP BY ใน SQL ต้องกำหนด GROUP ดีๆ\u001b[39;00m\n\u001b[0;32m      6\u001b[0m \u001b[38;5;28mprint\u001b[39m(app_count\u001b[38;5;241m.\u001b[39mquery)\n\u001b[1;32m----> 7\u001b[0m \u001b[38;5;28;43;01mfor\u001b[39;49;00m\u001b[43m \u001b[49m\u001b[43mapp\u001b[49m\u001b[43m \u001b[49m\u001b[38;5;129;43;01min\u001b[39;49;00m\u001b[43m \u001b[49m\u001b[43mapp_count\u001b[49m\u001b[43m:\u001b[49m\n\u001b[0;32m      8\u001b[0m \u001b[43m    \u001b[49m\u001b[38;5;28;43mprint\u001b[39;49m\u001b[43m(\u001b[49m\u001b[38;5;124;43mf\u001b[39;49m\u001b[38;5;124;43m\"\u001b[39;49m\u001b[38;5;124;43mName: \u001b[39;49m\u001b[38;5;132;43;01m{\u001b[39;49;00m\u001b[43mapp\u001b[49m\u001b[43m[\u001b[49m\u001b[38;5;124;43m'\u001b[39;49m\u001b[38;5;124;43mname\u001b[39;49m\u001b[38;5;124;43m'\u001b[39;49m\u001b[43m]\u001b[49m\u001b[38;5;132;43;01m}\u001b[39;49;00m\u001b[38;5;124;43m, Total Appoinment: \u001b[39;49m\u001b[38;5;132;43;01m{\u001b[39;49;00m\u001b[43mapp\u001b[49m\u001b[43m[\u001b[49m\u001b[38;5;124;43m'\u001b[39;49m\u001b[38;5;124;43mcustomer_count\u001b[39;49m\u001b[38;5;124;43m'\u001b[39;49m\u001b[43m]\u001b[49m\u001b[38;5;132;43;01m}\u001b[39;49;00m\u001b[38;5;124;43m\"\u001b[39;49m\u001b[43m)\u001b[49m\n",
      "File \u001b[1;32m~\\AppData\\Local\\Programs\\Python\\Python312\\Lib\\site-packages\\django\\db\\models\\query.py:400\u001b[0m, in \u001b[0;36mQuerySet.__iter__\u001b[1;34m(self)\u001b[0m\n\u001b[0;32m    385\u001b[0m \u001b[38;5;28;01mdef\u001b[39;00m \u001b[38;5;21m__iter__\u001b[39m(\u001b[38;5;28mself\u001b[39m):\n\u001b[0;32m    386\u001b[0m \u001b[38;5;250m    \u001b[39m\u001b[38;5;124;03m\"\"\"\u001b[39;00m\n\u001b[0;32m    387\u001b[0m \u001b[38;5;124;03m    The queryset iterator protocol uses three nested iterators in the\u001b[39;00m\n\u001b[0;32m    388\u001b[0m \u001b[38;5;124;03m    default case:\u001b[39;00m\n\u001b[1;32m   (...)\u001b[0m\n\u001b[0;32m    398\u001b[0m \u001b[38;5;124;03m           - Responsible for turning the rows into model objects.\u001b[39;00m\n\u001b[0;32m    399\u001b[0m \u001b[38;5;124;03m    \"\"\"\u001b[39;00m\n\u001b[1;32m--> 400\u001b[0m     \u001b[38;5;28;43mself\u001b[39;49m\u001b[38;5;241;43m.\u001b[39;49m\u001b[43m_fetch_all\u001b[49m\u001b[43m(\u001b[49m\u001b[43m)\u001b[49m\n\u001b[0;32m    401\u001b[0m     \u001b[38;5;28;01mreturn\u001b[39;00m \u001b[38;5;28miter\u001b[39m(\u001b[38;5;28mself\u001b[39m\u001b[38;5;241m.\u001b[39m_result_cache)\n",
      "File \u001b[1;32m~\\AppData\\Local\\Programs\\Python\\Python312\\Lib\\site-packages\\django\\db\\models\\query.py:1928\u001b[0m, in \u001b[0;36mQuerySet._fetch_all\u001b[1;34m(self)\u001b[0m\n\u001b[0;32m   1926\u001b[0m \u001b[38;5;28;01mdef\u001b[39;00m \u001b[38;5;21m_fetch_all\u001b[39m(\u001b[38;5;28mself\u001b[39m):\n\u001b[0;32m   1927\u001b[0m     \u001b[38;5;28;01mif\u001b[39;00m \u001b[38;5;28mself\u001b[39m\u001b[38;5;241m.\u001b[39m_result_cache \u001b[38;5;129;01mis\u001b[39;00m \u001b[38;5;28;01mNone\u001b[39;00m:\n\u001b[1;32m-> 1928\u001b[0m         \u001b[38;5;28mself\u001b[39m\u001b[38;5;241m.\u001b[39m_result_cache \u001b[38;5;241m=\u001b[39m \u001b[38;5;28;43mlist\u001b[39;49m\u001b[43m(\u001b[49m\u001b[38;5;28;43mself\u001b[39;49m\u001b[38;5;241;43m.\u001b[39;49m\u001b[43m_iterable_class\u001b[49m\u001b[43m(\u001b[49m\u001b[38;5;28;43mself\u001b[39;49m\u001b[43m)\u001b[49m\u001b[43m)\u001b[49m\n\u001b[0;32m   1929\u001b[0m     \u001b[38;5;28;01mif\u001b[39;00m \u001b[38;5;28mself\u001b[39m\u001b[38;5;241m.\u001b[39m_prefetch_related_lookups \u001b[38;5;129;01mand\u001b[39;00m \u001b[38;5;129;01mnot\u001b[39;00m \u001b[38;5;28mself\u001b[39m\u001b[38;5;241m.\u001b[39m_prefetch_done:\n\u001b[0;32m   1930\u001b[0m         \u001b[38;5;28mself\u001b[39m\u001b[38;5;241m.\u001b[39m_prefetch_related_objects()\n",
      "File \u001b[1;32m~\\AppData\\Local\\Programs\\Python\\Python312\\Lib\\site-packages\\django\\db\\models\\query.py:210\u001b[0m, in \u001b[0;36mValuesIterable.__iter__\u001b[1;34m(self)\u001b[0m\n\u001b[0;32m    204\u001b[0m names \u001b[38;5;241m=\u001b[39m [\n\u001b[0;32m    205\u001b[0m     \u001b[38;5;241m*\u001b[39mquery\u001b[38;5;241m.\u001b[39mextra_select,\n\u001b[0;32m    206\u001b[0m     \u001b[38;5;241m*\u001b[39mquery\u001b[38;5;241m.\u001b[39mvalues_select,\n\u001b[0;32m    207\u001b[0m     \u001b[38;5;241m*\u001b[39mquery\u001b[38;5;241m.\u001b[39mannotation_select,\n\u001b[0;32m    208\u001b[0m ]\n\u001b[0;32m    209\u001b[0m indexes \u001b[38;5;241m=\u001b[39m \u001b[38;5;28mrange\u001b[39m(\u001b[38;5;28mlen\u001b[39m(names))\n\u001b[1;32m--> 210\u001b[0m \u001b[38;5;28;01mfor\u001b[39;00m row \u001b[38;5;129;01min\u001b[39;00m \u001b[43mcompiler\u001b[49m\u001b[38;5;241;43m.\u001b[39;49m\u001b[43mresults_iter\u001b[49m\u001b[43m(\u001b[49m\n\u001b[0;32m    211\u001b[0m \u001b[43m    \u001b[49m\u001b[43mchunked_fetch\u001b[49m\u001b[38;5;241;43m=\u001b[39;49m\u001b[38;5;28;43mself\u001b[39;49m\u001b[38;5;241;43m.\u001b[39;49m\u001b[43mchunked_fetch\u001b[49m\u001b[43m,\u001b[49m\u001b[43m \u001b[49m\u001b[43mchunk_size\u001b[49m\u001b[38;5;241;43m=\u001b[39;49m\u001b[38;5;28;43mself\u001b[39;49m\u001b[38;5;241;43m.\u001b[39;49m\u001b[43mchunk_size\u001b[49m\n\u001b[0;32m    212\u001b[0m \u001b[43m\u001b[49m\u001b[43m)\u001b[49m:\n\u001b[0;32m    213\u001b[0m     \u001b[38;5;28;01myield\u001b[39;00m {names[i]: row[i] \u001b[38;5;28;01mfor\u001b[39;00m i \u001b[38;5;129;01min\u001b[39;00m indexes}\n",
      "File \u001b[1;32m~\\AppData\\Local\\Programs\\Python\\Python312\\Lib\\site-packages\\django\\db\\models\\sql\\compiler.py:1513\u001b[0m, in \u001b[0;36mSQLCompiler.results_iter\u001b[1;34m(self, results, tuple_expected, chunked_fetch, chunk_size)\u001b[0m\n\u001b[0;32m   1511\u001b[0m \u001b[38;5;250m\u001b[39m\u001b[38;5;124;03m\"\"\"Return an iterator over the results from executing this query.\"\"\"\u001b[39;00m\n\u001b[0;32m   1512\u001b[0m \u001b[38;5;28;01mif\u001b[39;00m results \u001b[38;5;129;01mis\u001b[39;00m \u001b[38;5;28;01mNone\u001b[39;00m:\n\u001b[1;32m-> 1513\u001b[0m     results \u001b[38;5;241m=\u001b[39m \u001b[38;5;28;43mself\u001b[39;49m\u001b[38;5;241;43m.\u001b[39;49m\u001b[43mexecute_sql\u001b[49m\u001b[43m(\u001b[49m\n\u001b[0;32m   1514\u001b[0m \u001b[43m        \u001b[49m\u001b[43mMULTI\u001b[49m\u001b[43m,\u001b[49m\u001b[43m \u001b[49m\u001b[43mchunked_fetch\u001b[49m\u001b[38;5;241;43m=\u001b[39;49m\u001b[43mchunked_fetch\u001b[49m\u001b[43m,\u001b[49m\u001b[43m \u001b[49m\u001b[43mchunk_size\u001b[49m\u001b[38;5;241;43m=\u001b[39;49m\u001b[43mchunk_size\u001b[49m\n\u001b[0;32m   1515\u001b[0m \u001b[43m    \u001b[49m\u001b[43m)\u001b[49m\n\u001b[0;32m   1516\u001b[0m fields \u001b[38;5;241m=\u001b[39m [s[\u001b[38;5;241m0\u001b[39m] \u001b[38;5;28;01mfor\u001b[39;00m s \u001b[38;5;129;01min\u001b[39;00m \u001b[38;5;28mself\u001b[39m\u001b[38;5;241m.\u001b[39mselect[\u001b[38;5;241m0\u001b[39m : \u001b[38;5;28mself\u001b[39m\u001b[38;5;241m.\u001b[39mcol_count]]\n\u001b[0;32m   1517\u001b[0m converters \u001b[38;5;241m=\u001b[39m \u001b[38;5;28mself\u001b[39m\u001b[38;5;241m.\u001b[39mget_converters(fields)\n",
      "File \u001b[1;32m~\\AppData\\Local\\Programs\\Python\\Python312\\Lib\\site-packages\\django\\db\\models\\sql\\compiler.py:1560\u001b[0m, in \u001b[0;36mSQLCompiler.execute_sql\u001b[1;34m(self, result_type, chunked_fetch, chunk_size)\u001b[0m\n\u001b[0;32m   1558\u001b[0m     cursor \u001b[38;5;241m=\u001b[39m \u001b[38;5;28mself\u001b[39m\u001b[38;5;241m.\u001b[39mconnection\u001b[38;5;241m.\u001b[39mchunked_cursor()\n\u001b[0;32m   1559\u001b[0m \u001b[38;5;28;01melse\u001b[39;00m:\n\u001b[1;32m-> 1560\u001b[0m     cursor \u001b[38;5;241m=\u001b[39m \u001b[38;5;28;43mself\u001b[39;49m\u001b[38;5;241;43m.\u001b[39;49m\u001b[43mconnection\u001b[49m\u001b[38;5;241;43m.\u001b[39;49m\u001b[43mcursor\u001b[49m\u001b[43m(\u001b[49m\u001b[43m)\u001b[49m\n\u001b[0;32m   1561\u001b[0m \u001b[38;5;28;01mtry\u001b[39;00m:\n\u001b[0;32m   1562\u001b[0m     cursor\u001b[38;5;241m.\u001b[39mexecute(sql, params)\n",
      "File \u001b[1;32m~\\AppData\\Local\\Programs\\Python\\Python312\\Lib\\site-packages\\django\\utils\\asyncio.py:24\u001b[0m, in \u001b[0;36masync_unsafe.<locals>.decorator.<locals>.inner\u001b[1;34m(*args, **kwargs)\u001b[0m\n\u001b[0;32m     22\u001b[0m \u001b[38;5;28;01melse\u001b[39;00m:\n\u001b[0;32m     23\u001b[0m     \u001b[38;5;28;01mif\u001b[39;00m \u001b[38;5;129;01mnot\u001b[39;00m os\u001b[38;5;241m.\u001b[39menviron\u001b[38;5;241m.\u001b[39mget(\u001b[38;5;124m\"\u001b[39m\u001b[38;5;124mDJANGO_ALLOW_ASYNC_UNSAFE\u001b[39m\u001b[38;5;124m\"\u001b[39m):\n\u001b[1;32m---> 24\u001b[0m         \u001b[38;5;28;01mraise\u001b[39;00m SynchronousOnlyOperation(message)\n\u001b[0;32m     25\u001b[0m \u001b[38;5;66;03m# Pass onward.\u001b[39;00m\n\u001b[0;32m     26\u001b[0m \u001b[38;5;28;01mreturn\u001b[39;00m func(\u001b[38;5;241m*\u001b[39margs, \u001b[38;5;241m*\u001b[39m\u001b[38;5;241m*\u001b[39mkwargs)\n",
      "\u001b[1;31mSynchronousOnlyOperation\u001b[0m: You cannot call this from an async context - use a thread or sync_to_async."
     ]
    }
   ],
   "source": [
    "app_count = Customer.objects.annotate(\n",
    "    customer_count = Count('appointment')\n",
    ").values('name', 'customer_count')\n",
    "# .annotate แล้ว .values ต่อ คือการ SELECT เฉพาะข้อมูลใน SQL และทำการ GROUP BY \n",
    "# ด้วย id ของตารางมันเองต้องกำหนด GROUP ดีๆ แต่ถ้า values ก่อนจะเป็นการ GROUP BY \n",
    "\n",
    "for app in app_count:\n",
    "    print(f\"Name: {app['name']}, Total Appoinment: {app['customer_count']}\")"
   ]
  },
  {
   "cell_type": "markdown",
   "metadata": {},
   "source": [
    "2.5 ให้หาว่าผู้ให้บริการ (`ServiceProvider`) แต่ละคนนั้นได้เงินโดยรวมเท่าไหร่\n",
    "\n",
    "Hint: ดูจากนั้ดหมายว่ามีการนัดบริการ (`Appointment.service`) ของแต่ละผู้ให้บริการรวมเป็นยอดเงินเท่าไหร่\n",
    "\n",
    "*หมายเหตุ: ไม่จำเป็นต้องใช้ `annotate()` สามารถ loop ได้เต็มที่เลยครับ*\n",
    "\n",
    "**Expected Output**\n",
    "\n",
    "```python\n",
    "Name: Provider 4, Total Price: 20\n",
    "Name: Provider 2, Total Price: 210\n",
    "Name: Provider 3, Total Price: 130\n",
    "Name: Provider 1, Total Price: 410\n",
    "```"
   ]
  },
  {
   "cell_type": "code",
   "execution_count": 5,
   "metadata": {},
   "outputs": [
    {
     "name": "stdout",
     "output_type": "stream",
     "text": [
      "Name: Provider Provider 4, Total Price: 150\n",
      "Name: Provider Provider 2, Total Price: 150\n",
      "Name: Provider Provider 3, Total Price: 150\n",
      "Name: Provider Provider 1, Total Price: 150\n"
     ]
    }
   ],
   "source": [
    "sum_pro = ServiceProvider.objects.annotate(\n",
    "    sum_provider = Sum('service__price')\n",
    ")\n",
    "\n",
    "for pro in sum_pro:\n",
    "    print(f'Name: Provider {pro.name}, Total Price: {pro.sum_provider}')"
   ]
  },
  {
   "cell_type": "markdown",
   "metadata": {},
   "source": [
    "2.6 ให้ดึงข้อมูลหมวดหมู่บริการโดยแปลงชื่อหมวดหมู่บริการ (`ServiceCategory.name`) เป็นตัวใหญ่ (uppercase) ทั้งหมด\n",
    "\n",
    "(0.5 คะแนน)\n",
    "\n",
    "**Expected Output**\n",
    "\n",
    "```python\n",
    "Name: Hair Care, Upper Name: HAIR CARE\n",
    "Name: Nail Care, Upper Name: NAIL CARE\n",
    "Name: Body Care, Upper Name: BODY CARE\n",
    "```"
   ]
  },
  {
   "cell_type": "code",
   "execution_count": 3,
   "metadata": {},
   "outputs": [
    {
     "name": "stdout",
     "output_type": "stream",
     "text": [
      "Name: Hair Care, Upper Name: HAIR CARE\n",
      "Name: Nail Care, Upper Name: NAIL CARE\n",
      "Name: Body Care, Upper Name: BODY CARE\n"
     ]
    }
   ],
   "source": [
    "cat_up = ServiceCategory.objects.all()\n",
    "\n",
    "for cat in cat_up:\n",
    "    print(f'Name: {cat.name}, Upper Name: {cat.name.upper()}')"
   ]
  },
  {
   "cell_type": "code",
   "execution_count": null,
   "metadata": {},
   "outputs": [],
   "source": []
  }
 ],
 "metadata": {
  "kernelspec": {
   "display_name": "Django Shell-Plus",
   "language": "python",
   "name": "django_extensions"
  },
  "language_info": {
   "codemirror_mode": {
    "name": "ipython",
    "version": 3
   },
   "file_extension": ".py",
   "mimetype": "text/x-python",
   "name": "python",
   "nbconvert_exporter": "python",
   "pygments_lexer": "ipython3",
   "version": "3.12.0"
  }
 },
 "nbformat": 4,
 "nbformat_minor": 2
}
