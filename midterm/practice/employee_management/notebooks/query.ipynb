{
 "cells": [
  {
   "cell_type": "markdown",
   "metadata": {},
   "source": [
    "![quiz](quiz.png)\n",
    "ี\n",
    "\n",
    "ี"
   ]
  },
  {
   "cell_type": "code",
   "execution_count": 3,
   "metadata": {},
   "outputs": [],
   "source": [
    "import os\n",
    "os.environ[\"DJANGO_ALLOW_ASYNC_UNSAFE\"] = \"true\"\n",
    "import json\n",
    "from employee.models import *\n",
    "from django.db.models import *\n",
    "from django.db.models.functions import *\n",
    "from django.utils import timezone\n",
    "from datetime import datetime, date\n",
    "from decimal import Decimal\n",
    "from zoneinfo import ZoneInfo"
   ]
  },
  {
   "cell_type": "code",
   "execution_count": 4,
   "metadata": {},
   "outputs": [],
   "source": [
    "# 1\n",
    "pos = Position.objects.get(name = \"HR Manager\")\n",
    "\n",
    "\n",
    "emp_1 = Employee.objects.create(\n",
    "    first_name = 'นาย A',\n",
    "    last_name = 'นาย A',\n",
    "    gender = 'M',\n",
    "    birth_date = '2000-01-09',\n",
    "    hire_date = '2024-08-26',\n",
    "    salary = 150000,\n",
    "    position = pos\n",
    ")\n",
    "emp_2 = Employee.objects.create(\n",
    "    first_name = 'นาย B',\n",
    "    last_name = 'นาย B',\n",
    "    gender = 'M',\n",
    "    birth_date = '2000-01-09',\n",
    "    hire_date = '2024-08-26',\n",
    "    salary = 150000,\n",
    "    position = pos\n",
    ")\n",
    "emp_3 = Employee.objects.create(\n",
    "    first_name = 'นาง C',\n",
    "    last_name = 'นาง C',\n",
    "    gender = 'F',\n",
    "    birth_date = '2000-01-09',\n",
    "    hire_date = '2024-08-26',\n",
    "    salary = 150000,\n",
    "    position = pos\n",
    ")\n",
    "emp_4 = Employee.objects.create(\n",
    "    first_name = 'นาง D',\n",
    "    last_name = 'นาง D',\n",
    "    gender = 'LGBT',\n",
    "    birth_date = '2000-01-09',\n",
    "    hire_date = '2024-08-26',\n",
    "    salary = 150000,\n",
    "    position = pos\n",
    ")\n",
    "emp_5 = Employee.objects.create(\n",
    "    first_name = 'นาย E',\n",
    "    last_name = 'นาย E',\n",
    "    gender = 'M',\n",
    "    birth_date = '2000-01-09',\n",
    "    hire_date = '2024-08-26',\n",
    "    salary = 150000,\n",
    "    position = pos\n",
    ")\n"
   ]
  },
  {
   "cell_type": "code",
   "execution_count": 30,
   "metadata": {},
   "outputs": [
    {
     "name": "stdout",
     "output_type": "stream",
     "text": [
      "ID : 2 , Department_name: HR , Salary: 150000.00\n",
      "ID : 1 , Department_name: IT , Salary: 75000.00\n",
      "ID : 5 , Department_name: Operations , Salary: 73000.00\n",
      "ID : 3 , Department_name: Finance , Salary: 72000.00\n",
      "ID : 4 , Department_name: Marketing , Salary: 71000.00\n"
     ]
    }
   ],
   "source": [
    "# 2\n",
    "emp = Department.objects.annotate( max_salary = Max('position__employee__salary') ).order_by('-max_salary').values( 'id', 'name','max_salary' )\n",
    "\n",
    "for e in emp:\n",
    "    print(f'ID : {e['id']} , Department_name: {e['name']} , Salary: {e['max_salary']}')"
   ]
  },
  {
   "cell_type": "code",
   "execution_count": 32,
   "metadata": {},
   "outputs": [],
   "source": [
    "# 3\n",
    "manager_1 = Employee.objects.get(\n",
    "    first_name = 'Ivy',\n",
    "    last_name = 'Iverson'\n",
    ")\n",
    "\n",
    "pro = Project.objects.create(\n",
    "    name = \"AI Research\",\n",
    "    manager = manager_1,\n",
    "    due_date = '2024-08-26',\n",
    "    start_date = '2024-01-26',\n",
    ")\n"
   ]
  },
  {
   "cell_type": "code",
   "execution_count": 33,
   "metadata": {},
   "outputs": [],
   "source": [
    "# 4\n",
    "john = Employee.objects.get(\n",
    "    first_name = 'John',\n",
    "    last_name = 'Doe'\n",
    ")\n",
    "bob = Employee.objects.get(\n",
    "    first_name = 'Bob',\n",
    "    last_name = 'Baker'\n",
    ")\n",
    "\n",
    "pro = Project.objects.get(\n",
    "    name = 'AI Research'\n",
    ")\n",
    "\n",
    "pro.staff.add(john, bob)"
   ]
  },
  {
   "cell_type": "code",
   "execution_count": 34,
   "metadata": {},
   "outputs": [],
   "source": [
    "# 5\n",
    "soft_dev = Position.objects.get(\n",
    "    name = 'Software Developer'\n",
    ")\n",
    "\n",
    "soft_dev.name = 'Software Engineer'\n",
    "soft_dev.save()"
   ]
  },
  {
   "cell_type": "code",
   "execution_count": 38,
   "metadata": {},
   "outputs": [],
   "source": [
    "# 6\n",
    "emp = Employee.objects.filter(\n",
    "    position__name ='Marketing Manager'\n",
    ").delete()"
   ]
  },
  {
   "cell_type": "code",
   "execution_count": null,
   "metadata": {},
   "outputs": [],
   "source": [
    "# 7\n",
    "emp = Employee.objects.filter(\n",
    "    salary__lt = 59000\n",
    ").delete()\n",
    "\n",
    "print(emp)"
   ]
  }
 ],
 "metadata": {
  "kernelspec": {
   "display_name": "Django Shell-Plus",
   "language": "python",
   "name": "django_extensions"
  },
  "language_info": {
   "codemirror_mode": {
    "name": "ipython",
    "version": 3
   },
   "file_extension": ".py",
   "mimetype": "text/x-python",
   "name": "python",
   "nbconvert_exporter": "python",
   "pygments_lexer": "ipython3",
   "version": "3.12.0"
  }
 },
 "nbformat": 4,
 "nbformat_minor": 2
}
